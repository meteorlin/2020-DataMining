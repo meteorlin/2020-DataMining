{
 "cells": [
  {
   "cell_type": "code",
   "execution_count": 1,
   "metadata": {},
   "outputs": [],
   "source": [
    "# !pip install --user -U tqdm\n",
    "# !pip install --user --upgrade pip\n",
    "\n",
    "import copy\n",
    "import os\n",
    "import time\n",
    "\n",
    "import pandas as pd\n",
    "import numpy as np\n",
    "\n",
    "import torch\n",
    "from torch.utils.data import DataLoader, TensorDataset\n",
    "import torch.nn as nn\n",
    "import torch.optim as optim\n",
    "\n",
    "from sklearn.metrics import f1_score\n",
    "from sklearn.preprocessing import StandardScaler\n",
    "import joblib\n",
    "import gc\n",
    "# from tqdm import tqdm\n",
    "\n",
    "import matplotlib.pyplot as plt\n"
   ]
  },
  {
   "cell_type": "code",
   "execution_count": 8,
   "metadata": {},
   "outputs": [],
   "source": [
    "NUM_EPOCH = 20\n",
    "device = 'cpu'\n"
   ]
  },
  {
   "cell_type": "code",
   "execution_count": 5,
   "metadata": {},
   "outputs": [],
   "source": [
    "def setup_seed(seed):\n",
    "    torch.manual_seed(seed)\n",
    "    torch.cuda.manual_seed_all(seed)\n",
    "    np.random.seed(seed)\n",
    "    torch.backends.cudnn.deterministic = True\n",
    "\n",
    "\n",
    "def f1_score_eval(preds, labels):\n",
    "    preds = preds.reshape(-1,)\n",
    "    labels = labels.reshape(-1,)\n",
    "    scores = f1_score(y_true=labels, y_pred=preds, labels=[0,1,2], average=None)\n",
    "    scores = scores[0]*0.2+scores[1]*0.2+scores[2]*0.6\n",
    "    return scores\n"
   ]
  },
  {
   "cell_type": "code",
   "execution_count": 4,
   "metadata": {},
   "outputs": [],
   "source": [
    "def gen_lstm_feats(txt_path, mode='is_train'):\n",
    "    df = pd.read_csv(txt_path, sep=';', header=None, usecols=['base', 'history_feature1', 'history_feature2', 'history_feature3', 'history_feature4'],\n",
    "                     names=['base', 'recent_feature', 'history_feature1', 'history_feature2', 'history_feature3', 'history_feature4'])\n",
    "    df['link'] = df['base'].apply(lambda x: x.split(' ')[0])  # 不同路段（道路属性）的周周期性不同\n",
    "    if mode in ['is_train', 'is_valid']:\n",
    "        df['label'] = df['base'].apply(lambda x: int(x.split(' ')[1]))\n",
    "        df['label'] = df['label'].apply(lambda x: 3 if x > 3 else x)\n",
    "        df['label'] -= 1\n",
    "        # df['current_slice_id'] = df[0].apply(lambda x: int(x.split(' ')[2]))\n",
    "        df['future_slice_id'] = df['base'].apply(lambda x: int(x.split(' ')[3]))  # 不同时间片的周周期性不同\n",
    "    else:\n",
    "        df['label'] = -1\n",
    "        # df['current_slice_id'] = df[0].apply(lambda x: int(x.split(' ')[2]))\n",
    "        df['future_slice_id'] = df['base'].apply(lambda x: int(x.split(' ')[3]))\n",
    "    # df = df.astype('int')\n",
    "    df.drop(['base'], axis=1, inplace=True)\n",
    "\n",
    "    def get_split(df_t):\n",
    "        arr_list = list()\n",
    "        print('Spliting... total 5')\n",
    "        for i in range(5):\n",
    "            f = df_t[i].str.split(':', expand=True)[1].str.split(',', expand=True).astype('float').values.reshape(1, -1, 4)\n",
    "            arr_list.append(f)\n",
    "        return np.concatenate(arr_list, axis=2)\n",
    "\n",
    "    history_feature1 = df.history_feature1.str.split(' ', expand=True)\n",
    "    # TODO 加入future时间片和link道路属性特征，或者在输出全连接加？\n",
    "    history_feature1 = get_split(history_feature1)\n",
    "    df.drop(['history_feature1'], axis=1, inplace=True)\n",
    "\n",
    "    history_feature2 = df.history_feature2.str.split(' ', expand=True)\n",
    "    history_feature2 = get_split(history_feature2)\n",
    "    df.drop(['history_feature2'], axis=1, inplace=True)\n",
    "\n",
    "    history_feature3 = df.history_feature3.str.split(' ', expand=True)\n",
    "    history_feature3 = get_split(history_feature3)\n",
    "    df.drop(['history_feature3'], axis=1, inplace=True)\n",
    "\n",
    "    history_feature4 = df.history_feature4.str.split(' ', expand=True)\n",
    "    history_feature4 = get_split(history_feature4)\n",
    "    df.drop(['history_feature4'], axis=1, inplace=True)\n",
    "\n",
    "    combined_feature = np.concatenate([history_feature1, history_feature2, history_feature3, history_feature4], axis=0)\n",
    "    print(f'combined features size (4, n, 20?): {combined_feature.shape}')\n",
    "    return combined_feature, df.label\n"
   ]
  },
  {
   "cell_type": "code",
   "execution_count": 6,
   "metadata": {},
   "outputs": [],
   "source": [
    "class Rnn(nn.Module):\n",
    "    def __init__(self, in_dim, hidden_dim, n_layer, n_classes):\n",
    "        super(Rnn, self).__init__()\n",
    "        self.n_layer = n_layer\n",
    "        self.hidden_dim = hidden_dim\n",
    "        self.lstm = nn.LSTM(in_dim, hidden_dim, n_layer, batch_first=True)\n",
    "        self.classifier = nn.Linear(hidden_dim, n_classes)\n",
    "\n",
    "    def forward(self, x):\n",
    "        out, (h_n, c_n) = self.lstm(x)\n",
    "        # 此时可以从out中获得最终输出的状态h\n",
    "        # x = out[:, -1, :]\n",
    "        x_feat = h_n[-1, :, :]\n",
    "        x = self.classifier(x_feat)\n",
    "        return x, x_feat\n"
   ]
  },
  {
   "cell_type": "code",
   "execution_count": 6,
   "metadata": {},
   "outputs": [],
   "source": [
    "def train_model(model, criterion, optimizer, num_epochs):\n",
    "    begin_time = time.time()\n",
    "    best_weights = copy.deepcopy(model.state_dict())  # copy the weights from the model\n",
    "    best_f1 = 0.0\n",
    "    best_loss = 0.0\n",
    "    best_epoch = 0\n",
    "\n",
    "    for epoch in range(num_epochs):\n",
    "        print(\"-*-\" * 20)\n",
    "        for phase in ['train', 'valid']:\n",
    "            if phase == 'train':\n",
    "                # schedular.step()  #pytorch后续版本将此放在optimizer.step后\n",
    "                # adjust_lr(optimizer, epoch)\n",
    "                model.train()\n",
    "                #\n",
    "                preds_epoch = torch.Tensor(train_data_size,)\n",
    "                labels_epoch = torch.Tensor(train_data_size,)\n",
    "            else:\n",
    "                model.eval()\n",
    "                #\n",
    "                preds_epoch = torch.Tensor(valid_data_size,)\n",
    "                labels_epoch = torch.Tensor(valid_data_size,)\n",
    "            running_loss = 0.0\n",
    "            running_acc = 0.0\n",
    "            correct = 0\n",
    "            scores = []\n",
    "            \n",
    "\n",
    "            for i, (features, labels) in enumerate(train_loader if phase == 'train' else valid_loader):\n",
    "                data_x = features.to(device)\n",
    "                data_y = labels.to(device).reshape(-1,)\n",
    "                optimizer.zero_grad()\n",
    "\n",
    "                with torch.set_grad_enabled(phase == 'train'):\n",
    "                    # data_x = torch.tensor(data_x, dtype=torch.float32)\n",
    "                    opt, _ = model(data_x)\n",
    "                    pred = torch.max(opt, 1)[1]\n",
    "                    loss = criterion(opt, data_y)\n",
    "                    if phase == 'train':\n",
    "                        loss.backward()\n",
    "                        optimizer.step()\n",
    "                # 以下为后添加\n",
    "                current_bsize = features.size(0)\n",
    "                from_ = int(batch_id * (train_loader.batch_size if phase == 'train' else valid_loader.batch_size))\n",
    "                to_ = int(from_ + current_bsize)\n",
    "                preds_epoch[from_:to_] = pred.detach().cpu().view(-1,)\n",
    "                labels_epoch[from_:to_] = labels.detach().cpu().view(-1,)\n",
    "\n",
    "                # if phase == 'train':\n",
    "                #     schedular.step()\n",
    "                running_loss += loss.item() * features.size(0)\n",
    "                # running_acc += torch.sum(pred == labels)\n",
    "                correct_counts = pred.eq(labels.detach().view_as(pred))\n",
    "                correct += correct_counts.sum().item()\n",
    "                acc = torch.mean(correct_counts.type(torch.FloatTensor))\n",
    "                running_acc += acc.item() * features.size(0)\n",
    "                scores.append(f1_score_eval(pred.numpy(), labels.numpy()))\n",
    "                print(\"Phase: {}  Loss: {:.4f} Accuracy: {:.4f} F1 score: {:.4f} at batch {:03d}\".format(\n",
    "                    phase, running_loss/(i+1), running_acc/(i+1), scores[i], i+1)) if (i+1)%50==0 else None\n",
    "            if phase == 'train':\n",
    "                avg_train_loss = running_loss / train_data_size\n",
    "                avg_train_acc = running_acc / train_data_size\n",
    "                avg_train_f1 = f1_score_eval(preds_epoch.numpy(), labels_epoch.numpy())\n",
    "            elif phase == 'valid':\n",
    "                avg_valid_loss = running_loss / valid_data_size\n",
    "                avg_valid_acc = running_acc / valid_data_size\n",
    "                valid_acc_2 = 100. * correct / valid_data_size\n",
    "                avg_valid_f1 = f1_score_eval(preds_epoch.numpy(), labels_epoch.numpy())\n",
    "\n",
    "                if avg_valid_f1 > best_f1:\n",
    "                    # Upgrade the weights\n",
    "                    best_f1 = avg_valid_f1\n",
    "                    best_loss = avg_valid_loss\n",
    "                    best_epoch = (epoch + 1)\n",
    "                    best_weights = copy.deepcopy(model.state_dict())\n",
    "                elif avg_valid_f1 == best_f1:\n",
    "                    if avg_valid_loss < best_loss:\n",
    "                        # Upgrade the weights\n",
    "                        best_f1 = avg_valid_f1\n",
    "                        best_loss = avg_valid_loss\n",
    "                        best_epoch = (epoch + 1)\n",
    "                        best_weights = copy.deepcopy(model.state_dict())\n",
    "            print(f'{phase} phase report: ')\n",
    "            print(classification_report(labels_epoch.numpy(), preds_epoch.numpy(), digits=4))\n",
    "\n",
    "        history.append([avg_train_loss, avg_valid_loss, avg_train_acc, avg_valid_acc, avg_train_f1, avg_valid_f1])\n",
    "        print(\n",
    "            \"Epoch: {:03d}, Train: Loss: {:.4f}, Accuracy: {:.4f}, F1 score: {:.4f} \\n\\t\\tValid: Loss: {:.4f}, Accuracy: {:.4f}, acc2: {}/{} ({:.4f}, F1 score: {:.4f})\".format(\n",
    "                (epoch + 1), avg_train_loss, avg_train_acc, avg_train_f1, avg_valid_loss, avg_valid_acc, correct, valid_data_size, valid_acc_2, avg_valid_f1\n",
    "            ))\n",
    "        print(\"Best F1 score for validation: {:.4f}, Loss :{:.4f}, at epoch {:03d}\".format(best_f1, best_loss, best_epoch))\n",
    "        # if (epoch + 1) % 5 == 0:\n",
    "        #     torch.save(model.state_dict(), os.path.join(image_dir, \"weight_avgp_epoch\" + str(epoch + 1) + '.pth'))\n",
    "        # schedular.step()\n",
    "\n",
    "\n",
    "    time_elapse = time.time() - begin_time\n",
    "    print('Training Complete in{:.0f}m {:0f}s'.format(\n",
    "        time_elapse // 60, time_elapse % 60\n",
    "    ))\n",
    "    print('Best Val F1: {:.4f}, Best Val Loss: {:.4f}'.format(best_f1, best_loss))\n",
    "\n",
    "    torch.save(model.state_dict(), os.path.join(path, 'lstm', \"weight_last_epoch\" + str(num_epochs) + '.pth'))\n",
    "    model.load_state_dict(best_weights)\n",
    "    torch.save(model.state_dict(), os.path.join(path, 'lstm', \"weight_best_epoch\" + str(best_epoch) + '.pth'))\n",
    "    #torch.save(model, os.path.join(image_dir, \"model_avg_best_epoch\" + str(best_epoch) + '.pth'))\n",
    "\n",
    "    return model, history, best_epoch\n"
   ]
  },
  {
   "cell_type": "code",
   "execution_count": null,
   "metadata": {},
   "outputs": [],
   "source": [
    "if __name__ == \"__main__\":\n",
    "    path = '../'\n",
    "    \"\"\"\n",
    "    train_path = path + 'traffic/20190701.txt'\n",
    "    valid_path = path + 'traffic/20190702.txt'\n",
    "    train_date = train_path.split('/')[-1][:-4]\n",
    "    valid_date = valid_path.split('/')[-1][:-4]\n",
    "    \"\"\"\n",
    "    \n",
    "    train_select = {'20190701':5261, '20190702':5354, '20190703':5173, '20190704':5178, '20190705':4818, \n",
    "                   '20190706':4818, '20190707':5128, '20190708':5150, '20190709':5001, '20190710':5302, \n",
    "                   '20190711':5514, '20190712':5454, '20190713':5307, '20190714':5054, '20190715':5480, \n",
    "                   '20190716':5436, '20190717':}\n",
    "    for tk, tv in train_select.items():\n",
    "        train_select[tk] = tv + 5000\n",
    "    \n",
    "    valid_select = {'20190726':5241, '20190727':4876, '20190728':5260, '20190729':5367, '20190730':5344}\n",
    "\n",
    "    setup_seed(2020)\n"
   ]
  },
  {
   "cell_type": "code",
   "execution_count": 8,
   "metadata": {},
   "outputs": [],
   "source": [
    "    \"\"\"\n",
    "    if os.path.exists(f'{train_date}_x.pkl'):\n",
    "        train_x = joblib.load(f'{train_date}_x.pkl')\n",
    "        train_y = joblib.load(f'{train_date}_y.pkl')\n",
    "    else:\n",
    "        train_x, train_y = gen_lstm_feats(train_path)\n",
    "        joblib.dump(train_x, f'{train_date}_x.pkl')\n",
    "        joblib.dump(train_y, f'{train_date}_y.pkl')\n",
    "    if os.path.exists(f'{valid_date}_x.pkl'):\n",
    "        valid_x = joblib.load(f'{valid_date}_x.pkl')\n",
    "        valid_y = joblib.load(f'{valid_date}_y.pkl')\n",
    "    else:\n",
    "        valid_x, valid_y = gen_lstm_feats(valid_path, mode='is_valid')\n",
    "        joblib.dump(valid_x, f'{valid_date}_x.pkl')\n",
    "        joblib.dump(valid_y, f'{valid_date}_y.pkl')\n",
    "    \"\"\"\n",
    "    "
   ]
  },
  {
   "cell_type": "code",
   "execution_count": null,
   "metadata": {},
   "outputs": [],
   "source": [
    "    txt_path = path + 'traffic/'\n",
    "    \n",
    "    df_train = pd.DataFrame()\n",
    "    for train_day, n_row in train_select.items():\n",
    "        if os.path.exists(f'{train_day}_x.pkl'):\n",
    "            train_x = joblib.load(f'{train_day}_x.pkl')\n",
    "            train_y = joblib.load(f'{train_day}_y.pkl')\n",
    "        else:\n",
    "            train_x, train_y = gen_lstm_feats(txt_path+train_day+'.txt')\n",
    "            joblib.dump(train_x, f'{train_day}_x.pkl')\n",
    "            joblib.dump(train_y, f'{train_day}_y.pkl')\n",
    "        seq_len, data_num, feat_size = train_x.shape\n",
    "        train_tmp = train_x.swapaxes(0, 1).reshape(data_num, -1)\n",
    "        train_tmp = pd.DataFrame(train_tmp)\n",
    "        train_tmp['id'] = range(0, train_tmp.shape[0])\n",
    "        train_tmp['label'] = train_y\n",
    "        train_row = pd.read_csv(f\"{path}adversarial_validation/adversarial_validation_{train_day}.csv\", nrows=n_row)\n",
    "        train_tmp = train_tmp.merge(train_row, on='id', how='right')\n",
    "        train_tmp.drop(['id', 'preds'], axis=1, inplace=True)\n",
    "        df_train = pd.concat([df_train, train_tmp], axis=0, ignore_index=True)\n",
    "    del train_tmp, train_row\n",
    "    train_y = df_train['label']\n",
    "    df_train.drop(['label'], axis=1, inplace=True)\n",
    "    train_x = df_train.values.reshape(-1, seq_len, feat_size)\n",
    "    train_x = train_x.swapaxes(0, 1)\n",
    "    del df_train\n",
    "    \n",
    "    df_valid = pd.DataFrame()\n",
    "    for valid_day, n_row in valid_select.items():\n",
    "        if os.path.exists(f'{valid_day}_x.pkl'):\n",
    "            valid_x = joblib.load(f'{valid_day}_x.pkl')\n",
    "            valid_y = joblib.load(f'{valid_day}_y.pkl')\n",
    "        else:\n",
    "            valid_x, valid_y = gen_lstm_feats(txt_path+valid_day+'.txt')\n",
    "            joblib.dump(valid_x, f'{valid_day}_x.pkl')\n",
    "            joblib.dump(valid_y, f'{valid_day}_y.pkl')\n",
    "        seq_len, data_num, feat_size = valid_x.shape\n",
    "        valid_tmp = valid_x.swapaxes(0, 1).reshape(data_num, -1)\n",
    "        valid_tmp = pd.DataFrame(valid_tmp)\n",
    "        valid_tmp['id'] = range(0, valid_tmp.shape[0])\n",
    "        valid_tmp['label'] = valid_y\n",
    "        valid_row = pd.read_csv(f\"{path}adversarial_validation/adversarial_validation_{valid_day}.csv\", nrows=n_row)\n",
    "        valid_tmp = valid_tmp.merge(valid_row, on='id', how='right')\n",
    "        valid_tmp.drop(['id', 'preds'], axis=1, inplace=True)\n",
    "        df_valid = pd.concat([df_valid, valid_tmp], axis=0, ignore_index=True)\n",
    "    del valid_tmp, valid_row\n",
    "    valid_y = df_valid['label']\n",
    "    df_valid.drop(['label'], axis=1, inplace=True)\n",
    "    valid_x = df_valid.values.reshape(-1, seq_len, feat_size)\n",
    "    valid_x = valid_x.swapaxes(0, 1)\n",
    "    del df_valid\n",
    "    "
   ]
  },
  {
   "cell_type": "code",
   "execution_count": 9,
   "metadata": {},
   "outputs": [],
   "source": [
    "    seq_len, data_num, feat_size = train_x.shape\n",
    "    train_x = train_x.swapaxes(0, 1).reshape(data_num, seq_len*feat_size)\n",
    "    scaler = StandardScaler()\n",
    "    scaler.fit(train_x)\n",
    "    joblib.dump(scaler, f'standard_scaler.pkl')\n",
    "    train_x = scaler.transform(train_x)\n",
    "    train_x = train_x.reshape(data_num, seq_len, feat_size)\n",
    "    valid_x = valid_x.swapaxes(0, 1).reshape(-1, seq_len * feat_size)\n",
    "    valid_x = scaler.transform(valid_x)\n",
    "    valid_x = valid_x.reshape(-1, seq_len, feat_size)\n",
    "    "
   ]
  },
  {
   "cell_type": "code",
   "execution_count": 10,
   "metadata": {},
   "outputs": [],
   "source": [
    "    train_y = train_y.values.reshape(-1, 1)\n",
    "    valid_y = valid_y.values.reshape(-1, 1)\n",
    "    "
   ]
  },
  {
   "cell_type": "code",
   "execution_count": 11,
   "metadata": {},
   "outputs": [
    {
     "data": {
      "text/plain": [
       "110"
      ]
     },
     "execution_count": 11,
     "metadata": {},
     "output_type": "execute_result"
    }
   ],
   "source": [
    "    train_x = torch.from_numpy(train_x).float()\n",
    "    train_y = torch.from_numpy(train_y)\n",
    "    valid_x = torch.from_numpy(valid_x).float()\n",
    "    valid_y = torch.from_numpy(valid_y)\n",
    "\n",
    "    gc.collect()\n",
    "    "
   ]
  },
  {
   "cell_type": "code",
   "execution_count": 12,
   "metadata": {},
   "outputs": [
    {
     "data": {
      "text/plain": [
       "torch.float32"
      ]
     },
     "execution_count": 12,
     "metadata": {},
     "output_type": "execute_result"
    }
   ],
   "source": [
    "    train_x.dtype"
   ]
  },
  {
   "cell_type": "code",
   "execution_count": 13,
   "metadata": {},
   "outputs": [
    {
     "name": "stdout",
     "output_type": "stream",
     "text": [
      "train_data_size, valid_data_size: 503556, 505953\n"
     ]
    }
   ],
   "source": [
    "    data = {\n",
    "        'train': TensorDataset(train_x, train_y),\n",
    "        'valid': TensorDataset(valid_x, valid_y)\n",
    "    }\n",
    "    train_data_size = data['train'].__len__()\n",
    "    valid_data_size = data['valid'].__len__()\n",
    "    print('train_data_size, valid_data_size: ' + str(train_data_size) + ', ' + str(valid_data_size))\n",
    "\n",
    "    train_loader = DataLoader(data['train'], batch_size=2048, shuffle=True, num_workers=4, pin_memory=True)\n",
    "    valid_loader = DataLoader(data['valid'], batch_size=2048, shuffle=False, num_workers=4, pin_memory=True)\n"
   ]
  },
  {
   "cell_type": "code",
   "execution_count": 14,
   "metadata": {},
   "outputs": [],
   "source": [
    "    model_ft = Rnn(feat_size, 128, 1, 3)\n",
    "    model_ft = model_ft.to(device)\n",
    "    criterion_ft = nn.CrossEntropyLoss()\n",
    "    optimizer_ft = optim.Adam(model_ft.parameters())\n",
    "    history = []\n",
    "    "
   ]
  },
  {
   "cell_type": "code",
   "execution_count": 16,
   "metadata": {},
   "outputs": [
    {
     "name": "stdout",
     "output_type": "stream",
     "text": [
      "77187\n"
     ]
    }
   ],
   "source": [
    "    num_params = 0\n",
    "    for param in model_ft.parameters():\n",
    "        num_params += param.numel()\n",
    "    print(num_params)"
   ]
  },
  {
   "cell_type": "code",
   "execution_count": null,
   "metadata": {},
   "outputs": [],
   "source": [
    "    model_ft, history_ft, best_epoch_ft = train_model(model_ft, criterion_ft, optimizer_ft, num_epochs=NUM_EPOCH)\n"
   ]
  },
  {
   "cell_type": "code",
   "execution_count": 17,
   "metadata": {},
   "outputs": [
    {
     "data": {
      "image/png": "[encoded data removed]",
      "text/plain": [
       "<Figure size 432x288 with 1 Axes>"
      ]
     },
     "metadata": {
      "needs_background": "light"
     },
     "output_type": "display_data"
    }
   ],
   "source": [
    "    history = np.array(history)\n",
    "    plt.plot(history[:, 0:2])\n",
    "    plt.legend(['Tr Loss', 'Val Loss'])\n",
    "    plt.xlabel('Epoch Number')\n",
    "    plt.ylabel('Loss')\n",
    "    plt.ylim(0, 1)\n",
    "    plt.savefig('lstm_loss_curve.png')\n",
    "    "
   ]
  },
  {
   "cell_type": "code",
   "execution_count": 18,
   "metadata": {},
   "outputs": [
    {
     "data": {
      "image/png": "[encoded data removed]",
      "text/plain": [
       "<Figure size 432x288 with 1 Axes>"
      ]
     },
     "metadata": {
      "needs_background": "light"
     },
     "output_type": "display_data"
    }
   ],
   "source": [
    "    plt.plot(history[:, 2:4])\n",
    "    plt.legend(['Tr Accuracy', 'Val Accuracy'])\n",
    "    plt.xlabel('Epoch Number')\n",
    "    plt.ylabel('Accuracy')\n",
    "    plt.ylim(0, 1)\n",
    "    plt.savefig('lstm_accuracy_curve.png')\n",
    "    "
   ]
  },
  {
   "cell_type": "code",
   "execution_count": 19,
   "metadata": {},
   "outputs": [
    {
     "data": {
      "image/png": "[encoded data removed]",
      "text/plain": [
       "<Figure size 432x288 with 1 Axes>"
      ]
     },
     "metadata": {
      "needs_background": "light"
     },
     "output_type": "display_data"
    }
   ],
   "source": [
    "    plt.plot(history[:, 4:6])\n",
    "    plt.legend(['Tr F1', 'Val F1'])\n",
    "    plt.xlabel('Epoch Number')\n",
    "    plt.ylabel('F1')\n",
    "    plt.ylim(0, 1)\n",
    "    plt.savefig('lstm_F1_curve.png')\n",
    "    "
   ]
  },
  {
   "cell_type": "code",
   "execution_count": 20,
   "metadata": {},
   "outputs": [
    {
     "name": "stdout",
     "output_type": "stream",
     "text": [
      "Spliting... total 5\n",
      "Spliting... total 5\n",
      "Spliting... total 5\n",
      "Spliting... total 5\n",
      "combined features size (4, n, 20?): (4, 176057, 20)\n"
     ]
    }
   ],
   "source": [
    "    # 用于提取测试集的周特征，与下个cell执行其一\n",
    "    model_ft.load_state_dict(torch.load('weight_best_epoch8.pth'))\n",
    "    scaler = joblib.load('standard_scaler.pkl')\n",
    "    \n",
    "    if os.path.exists(f'test_x.pkl'):\n",
    "        test_x = joblib.load(f'test_x.pkl')\n",
    "    else:\n",
    "        test_path = path + '20190801_testdata.txt'\n",
    "        test_x, _ = gen_lstm_feats(test_path, mode='is_test')\n",
    "        joblib.dump(test_x, f'test_x.pkl')\n",
    "    "
   ]
  },
  {
   "cell_type": "code",
   "execution_count": 44,
   "metadata": {},
   "outputs": [
    {
     "name": "stdout",
     "output_type": "stream",
     "text": [
      "Spliting... total 5\n",
      "Spliting... total 5\n",
      "Spliting... total 5\n",
      "Spliting... total 5\n",
      "combined features size (4, n, 20?): (4, 516549, 20)\n"
     ]
    }
   ],
   "source": [
    "    # 用于提取训练集的周特征，与上个cell执行其一\n",
    "    model_ft.load_state_dict(torch.load('weight_best_epoch8.pth'))\n",
    "    scaler = joblib.load('standard_scaler.pkl')\n",
    "    \n",
    "    train_date = 20190704\n",
    "    if os.path.exists(f'{train_date}_x.pkl'):\n",
    "        test_x = joblib.load(f'{train_date}_x.pkl')\n",
    "    else:\n",
    "        train_path = path + f'traffic/{train_date}.txt'\n",
    "        test_x, test_y = gen_lstm_feats(train_path, mode='is_train')\n",
    "        joblib.dump(test_x, f'{train_date}_x.pkl')\n",
    "        joblib.dump(test_y, f'{train_date}_y.pkl')\n",
    "    "
   ]
  },
  {
   "cell_type": "code",
   "execution_count": 45,
   "metadata": {},
   "outputs": [],
   "source": [
    "    test_x = test_x.swapaxes(0, 1).reshape(-1, seq_len * feat_size)\n",
    "    test_x = scaler.transform(test_x)\n",
    "    test_x = test_x.reshape(-1, seq_len, feat_size)\n",
    "    \n",
    "    test_x = torch.from_numpy(test_x).float()\n",
    "    "
   ]
  },
  {
   "cell_type": "code",
   "execution_count": 46,
   "metadata": {},
   "outputs": [
    {
     "name": "stdout",
     "output_type": "stream",
     "text": [
      "test_data_size: 516549\n"
     ]
    }
   ],
   "source": [
    "    test_set = TensorDataset(test_x)\n",
    "    test_data_size = test_set.__len__()\n",
    "    print('test_data_size: ' + str(test_data_size))\n",
    "\n",
    "    test_loader = DataLoader(test_set, batch_size=2048, shuffle=False, num_workers=0, pin_memory=True)\n",
    "    "
   ]
  },
  {
   "cell_type": "code",
   "execution_count": 47,
   "metadata": {},
   "outputs": [],
   "source": [
    "    model_ft = model_ft.to(device)\n",
    "    model_ft.eval()\n",
    "    \n",
    "    hidden_feats = torch.Tensor(test_data_size, 128)\n",
    "    "
   ]
  },
  {
   "cell_type": "code",
   "execution_count": null,
   "metadata": {},
   "outputs": [],
   "source": [
    "    test_x"
   ]
  },
  {
   "cell_type": "code",
   "execution_count": 48,
   "metadata": {},
   "outputs": [
    {
     "name": "stdout",
     "output_type": "stream",
     "text": [
      "batch 20 completed\n",
      "batch 40 completed\n",
      "batch 60 completed\n",
      "batch 80 completed\n",
      "batch 100 completed\n",
      "batch 120 completed\n",
      "batch 140 completed\n",
      "batch 160 completed\n",
      "batch 180 completed\n",
      "batch 200 completed\n",
      "batch 220 completed\n",
      "batch 240 completed\n"
     ]
    },
    {
     "data": {
      "text/plain": [
       "(516549, 128)"
      ]
     },
     "execution_count": 48,
     "metadata": {},
     "output_type": "execute_result"
    }
   ],
   "source": [
    "    for batch_id, features in enumerate(test_loader):\n",
    "        data_x = features[0].to(device)\n",
    "        current_bsize = features[0].size(0)\n",
    "        from_ = int(batch_id * test_loader.batch_size)\n",
    "        to_ = int(from_ + current_bsize)\n",
    "        \n",
    "        x = torch.autograd.Variable(data_x, requires_grad=False)\n",
    "        _, hidden_out = model_ft(x)\n",
    "        # output = output.squeeze(0)\n",
    "\n",
    "        hidden_feats[from_:to_] = hidden_out.detach().cpu()\n",
    "        print(f'batch {batch_id+1} completed') if (batch_id+1)%20==0 else None\n",
    "\n",
    "    hidden_feats = hidden_feats.numpy()\n",
    "    hidden_feats.shape"
   ]
  },
  {
   "cell_type": "code",
   "execution_count": 49,
   "metadata": {},
   "outputs": [
    {
     "data": {
      "text/html": [
       "<div>\n",
       "<style scoped>\n",
       "    .dataframe tbody tr th:only-of-type {\n",
       "        vertical-align: middle;\n",
       "    }\n",
       "\n",
       "    .dataframe tbody tr th {\n",
       "        vertical-align: top;\n",
       "    }\n",
       "\n",
       "    .dataframe thead th {\n",
       "        text-align: right;\n",
       "    }\n",
       "</style>\n",
       "<table border=\"1\" class=\"dataframe\">\n",
       "  <thead>\n",
       "    <tr style=\"text-align: right;\">\n",
       "      <th></th>\n",
       "      <th>lstm_0</th>\n",
       "      <th>lstm_1</th>\n",
       "      <th>lstm_2</th>\n",
       "      <th>lstm_3</th>\n",
       "      <th>lstm_4</th>\n",
       "      <th>lstm_5</th>\n",
       "      <th>lstm_6</th>\n",
       "      <th>lstm_7</th>\n",
       "      <th>lstm_8</th>\n",
       "      <th>lstm_9</th>\n",
       "      <th>...</th>\n",
       "      <th>lstm_118</th>\n",
       "      <th>lstm_119</th>\n",
       "      <th>lstm_120</th>\n",
       "      <th>lstm_121</th>\n",
       "      <th>lstm_122</th>\n",
       "      <th>lstm_123</th>\n",
       "      <th>lstm_124</th>\n",
       "      <th>lstm_125</th>\n",
       "      <th>lstm_126</th>\n",
       "      <th>lstm_127</th>\n",
       "    </tr>\n",
       "  </thead>\n",
       "  <tbody>\n",
       "    <tr>\n",
       "      <th>0</th>\n",
       "      <td>-0.617506</td>\n",
       "      <td>-0.010991</td>\n",
       "      <td>0.613916</td>\n",
       "      <td>-0.588238</td>\n",
       "      <td>0.641709</td>\n",
       "      <td>-0.463686</td>\n",
       "      <td>0.170780</td>\n",
       "      <td>0.295360</td>\n",
       "      <td>0.661418</td>\n",
       "      <td>-0.664157</td>\n",
       "      <td>...</td>\n",
       "      <td>0.497812</td>\n",
       "      <td>-0.350101</td>\n",
       "      <td>-0.451295</td>\n",
       "      <td>0.379104</td>\n",
       "      <td>0.459181</td>\n",
       "      <td>0.044742</td>\n",
       "      <td>0.103418</td>\n",
       "      <td>0.676691</td>\n",
       "      <td>-0.436050</td>\n",
       "      <td>0.633939</td>\n",
       "    </tr>\n",
       "    <tr>\n",
       "      <th>1</th>\n",
       "      <td>-0.418632</td>\n",
       "      <td>-0.024895</td>\n",
       "      <td>0.391175</td>\n",
       "      <td>-0.396902</td>\n",
       "      <td>0.629836</td>\n",
       "      <td>-0.257972</td>\n",
       "      <td>0.038932</td>\n",
       "      <td>0.159631</td>\n",
       "      <td>0.588767</td>\n",
       "      <td>-0.522501</td>\n",
       "      <td>...</td>\n",
       "      <td>0.301496</td>\n",
       "      <td>-0.285323</td>\n",
       "      <td>-0.268450</td>\n",
       "      <td>0.317287</td>\n",
       "      <td>0.431478</td>\n",
       "      <td>0.016857</td>\n",
       "      <td>0.037048</td>\n",
       "      <td>0.490244</td>\n",
       "      <td>-0.168363</td>\n",
       "      <td>0.554600</td>\n",
       "    </tr>\n",
       "    <tr>\n",
       "      <th>2</th>\n",
       "      <td>0.154711</td>\n",
       "      <td>0.240798</td>\n",
       "      <td>-0.044597</td>\n",
       "      <td>0.025967</td>\n",
       "      <td>-0.054386</td>\n",
       "      <td>0.184140</td>\n",
       "      <td>-0.000135</td>\n",
       "      <td>-0.078015</td>\n",
       "      <td>0.019637</td>\n",
       "      <td>0.053582</td>\n",
       "      <td>...</td>\n",
       "      <td>0.018213</td>\n",
       "      <td>0.206037</td>\n",
       "      <td>0.043409</td>\n",
       "      <td>-0.172638</td>\n",
       "      <td>-0.038193</td>\n",
       "      <td>0.017314</td>\n",
       "      <td>-0.016221</td>\n",
       "      <td>-0.152554</td>\n",
       "      <td>0.146521</td>\n",
       "      <td>-0.023526</td>\n",
       "    </tr>\n",
       "    <tr>\n",
       "      <th>3</th>\n",
       "      <td>-0.622735</td>\n",
       "      <td>-0.014171</td>\n",
       "      <td>0.601230</td>\n",
       "      <td>-0.550873</td>\n",
       "      <td>0.640128</td>\n",
       "      <td>-0.425787</td>\n",
       "      <td>0.185806</td>\n",
       "      <td>0.316017</td>\n",
       "      <td>0.700156</td>\n",
       "      <td>-0.649897</td>\n",
       "      <td>...</td>\n",
       "      <td>0.458464</td>\n",
       "      <td>-0.375808</td>\n",
       "      <td>-0.517883</td>\n",
       "      <td>0.410648</td>\n",
       "      <td>0.519132</td>\n",
       "      <td>0.049893</td>\n",
       "      <td>0.105126</td>\n",
       "      <td>0.658166</td>\n",
       "      <td>-0.357375</td>\n",
       "      <td>0.659913</td>\n",
       "    </tr>\n",
       "    <tr>\n",
       "      <th>4</th>\n",
       "      <td>-0.193260</td>\n",
       "      <td>-0.085549</td>\n",
       "      <td>0.128474</td>\n",
       "      <td>-0.392158</td>\n",
       "      <td>0.495087</td>\n",
       "      <td>-0.184928</td>\n",
       "      <td>0.082014</td>\n",
       "      <td>0.075302</td>\n",
       "      <td>0.626822</td>\n",
       "      <td>-0.473456</td>\n",
       "      <td>...</td>\n",
       "      <td>0.306456</td>\n",
       "      <td>-0.431886</td>\n",
       "      <td>-0.132906</td>\n",
       "      <td>0.229673</td>\n",
       "      <td>0.164394</td>\n",
       "      <td>0.037520</td>\n",
       "      <td>0.055346</td>\n",
       "      <td>0.425620</td>\n",
       "      <td>-0.188607</td>\n",
       "      <td>0.372738</td>\n",
       "    </tr>\n",
       "  </tbody>\n",
       "</table>\n",
       "<p>5 rows × 128 columns</p>\n",
       "</div>"
      ],
      "text/plain": [
       "     lstm_0    lstm_1    lstm_2    lstm_3    lstm_4    lstm_5    lstm_6  \\\n",
       "0 -0.617506 -0.010991  0.613916 -0.588238  0.641709 -0.463686  0.170780   \n",
       "1 -0.418632 -0.024895  0.391175 -0.396902  0.629836 -0.257972  0.038932   \n",
       "2  0.154711  0.240798 -0.044597  0.025967 -0.054386  0.184140 -0.000135   \n",
       "3 -0.622735 -0.014171  0.601230 -0.550873  0.640128 -0.425787  0.185806   \n",
       "4 -0.193260 -0.085549  0.128474 -0.392158  0.495087 -0.184928  0.082014   \n",
       "\n",
       "     lstm_7    lstm_8    lstm_9  ...  lstm_118  lstm_119  lstm_120  lstm_121  \\\n",
       "0  0.295360  0.661418 -0.664157  ...  0.497812 -0.350101 -0.451295  0.379104   \n",
       "1  0.159631  0.588767 -0.522501  ...  0.301496 -0.285323 -0.268450  0.317287   \n",
       "2 -0.078015  0.019637  0.053582  ...  0.018213  0.206037  0.043409 -0.172638   \n",
       "3  0.316017  0.700156 -0.649897  ...  0.458464 -0.375808 -0.517883  0.410648   \n",
       "4  0.075302  0.626822 -0.473456  ...  0.306456 -0.431886 -0.132906  0.229673   \n",
       "\n",
       "   lstm_122  lstm_123  lstm_124  lstm_125  lstm_126  lstm_127  \n",
       "0  0.459181  0.044742  0.103418  0.676691 -0.436050  0.633939  \n",
       "1  0.431478  0.016857  0.037048  0.490244 -0.168363  0.554600  \n",
       "2 -0.038193  0.017314 -0.016221 -0.152554  0.146521 -0.023526  \n",
       "3  0.519132  0.049893  0.105126  0.658166 -0.357375  0.659913  \n",
       "4  0.164394  0.037520  0.055346  0.425620 -0.188607  0.372738  \n",
       "\n",
       "[5 rows x 128 columns]"
      ]
     },
     "execution_count": 49,
     "metadata": {},
     "output_type": "execute_result"
    }
   ],
   "source": [
    "    df = pd.DataFrame(hidden_feats, columns=[f'lstm_{i}' for i in range(128)]).astype(float)\n",
    "\n",
    "    df.to_csv(f'./csv/lstm_feats_{train_date}.csv', index=False, encoding='utf8')\n",
    "    df.head(5)\n",
    "    "
   ]
  },
  {
   "cell_type": "code",
   "execution_count": null,
   "metadata": {},
   "outputs": [],
   "source": []
  }
 ],
 "metadata": {
  "kernelspec": {
   "display_name": "py37_pytorch1.5",
   "language": "python",
   "name": "py37_pytorch1.5"
  },
  "language_info": {
   "codemirror_mode": {
    "name": "ipython",
    "version": 3
   },
   "file_extension": ".py",
   "mimetype": "text/x-python",
   "name": "python",
   "nbconvert_exporter": "python",
   "pygments_lexer": "ipython3",
   "version": "3.7.7"
  }
 },
 "nbformat": 4,
 "nbformat_minor": 4
}
