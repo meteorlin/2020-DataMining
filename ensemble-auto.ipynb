{
 "cells": [
  {
   "cell_type": "code",
   "execution_count": 1,
   "metadata": {},
   "outputs": [],
   "source": [
    "import pandas as pd\n",
    "import numpy as np\n",
    "from tqdm import tqdm\n",
    "from sklearn.metrics import classification_report, f1_score\n",
    "import warnings\n"
   ]
  },
  {
   "cell_type": "code",
   "execution_count": 2,
   "metadata": {},
   "outputs": [],
   "source": [
    "def f1_score_eval(preds, labels):\n",
    "    preds = preds.values.reshape(-1,)\n",
    "    labels = labels.values.reshape(-1,)\n",
    "    scores = f1_score(y_true=labels, y_pred=preds, labels=[0,1,2], average=None)\n",
    "    scores = scores[0] * 0.2 + scores[1] * 0.2 + scores[2] * 0.6\n",
    "    return scores\n"
   ]
  },
  {
   "cell_type": "code",
   "execution_count": 3,
   "metadata": {},
   "outputs": [],
   "source": [
    "if __name__ == \"__main__\":\n",
    "\n",
    "    train_select = {'20190701': 5261, '20190702': 5354, '20190703': 5173, '20190704': 5178, '20190705': 4818,\n",
    "                    '20190706': 4818, '20190707': 5128, '20190708': 5150, '20190709': 5001, '20190710': 5302,\n",
    "                    '20190711': 5514, '20190712': 5454, '20190713': 5307, '20190714': 5054, '20190715': 5480,\n",
    "                    '20190716': 5436, '20190717': 4998, '20190718': 5087, '20190719': 4951, '20190720': 4965,\n",
    "                    '20190721': 5284, '20190722': 5346, '20190723': 5102, '20190724': 5075, '20190725': 5367}\n",
    "    for tk, tv in train_select.items():\n",
    "        train_select[tk] = tv\n",
    "\n",
    "    valid_select = {'20190726': 5241, '20190727': 4876, '20190728': 5260, '20190729': 5367, '20190730': 5344}\n",
    "    "
   ]
  },
  {
   "cell_type": "code",
   "execution_count": 4,
   "metadata": {},
   "outputs": [],
   "source": [
    "    #m1_valid = pd.read_csv('valid_pred_xgb.csv', index_col=0, nrows=26088)\n",
    "    #m1_valid['label'] = m1_valid['label'] + 1\n",
    "    #m1_valid.to_csv('valid_pred_xgb.csv', index=False, encoding='utf8')\n",
    "    #m1_valid = pd.read_csv('test_pred_DNN.csv')\n",
    "    #m1_valid['label'] = m1_valid['label'] + 1\n",
    "    #m1_valid.to_csv('test_pred_DNN.csv', index=False, encoding='utf8')"
   ]
  },
  {
   "cell_type": "code",
   "execution_count": 5,
   "metadata": {},
   "outputs": [],
   "source": [
    "    # [0.60,0.45] 两个lgb 0.5557662040556728\n",
    "    # [0.60,0.31] lgb,NN 0.5601825134790559\n",
    "    is_valid = True  # 融合用于验证还是测试，True为验证\n",
    "    is_soft = False\n",
    "    m0 = '_set_pred_www.csv'\n",
    "    m1 = '_pred_DNN2_sim_0.561.csv'\n",
    "    m2 = '_result-lr-5509804.csv'\n",
    "    ensemble_weight = [0.45,0.01,0.45]  # 两个模型的权重，分数更高的权重也要更高，无需和为1\n",
    "    m0_valid = pd.read_csv(('valid' if is_valid is True else 'test')+m0)  # 模型1输出文件\n",
    "    m1_valid = pd.read_csv(('valid' if is_valid is True else 'test')+m1)  # 模型2输出文件\n",
    "    m2_valid = pd.read_csv(('valid' if is_valid is True else 'test')+m2)  # 模型2输出文件\n",
    "    "
   ]
  },
  {
   "cell_type": "code",
   "execution_count": 6,
   "metadata": {},
   "outputs": [],
   "source": [
    "    valid = pd.DataFrame()\n",
    "    for valid_day, n_row in valid_select.items():\n",
    "        valid_tmp = pd.read_csv(f\"../feature/is_train_{valid_day}.csv\", usecols=['label'], dtype=int)\n",
    "        valid_tmp['id'] = range(0, valid_tmp.shape[0])\n",
    "        valid_row = pd.read_csv(f\"../adversarial_validation/adversarial_validation_{valid_day}.csv\", nrows=n_row)\n",
    "        valid_tmp = valid_tmp.merge(valid_row, on='id', how='right')\n",
    "        valid_tmp.drop(['id', 'preds'], axis=1, inplace=True)\n",
    "        valid = pd.concat([valid, valid_tmp], axis=0, ignore_index=True)\n",
    "    del valid_tmp, valid_row"
   ]
  },
  {
   "cell_type": "code",
   "execution_count": 7,
   "metadata": {},
   "outputs": [
    {
     "name": "stderr",
     "output_type": "stream",
     "text": [
      "100%|██████████| 60/60 [13:31<00:00, 13.52s/it]"
     ]
    },
    {
     "name": "stdout",
     "output_type": "stream",
     "text": [
      "best soft score: 0.5652584219819898, best weight: [0.45, 0.45, 0.04]\n",
      "best hard score: 0.567533815247799, best weight: [0.45, 0.46, 0.02]\n"
     ]
    },
    {
     "name": "stderr",
     "output_type": "stream",
     "text": [
      "\n"
     ]
    }
   ],
   "source": [
    "    # 三个模型权重测试\n",
    "    if is_valid == True:\n",
    "        ensemble_weight = [0.45,0,0]  # 两个模型的权重，分数更高的权重也要更高，无需和为1\n",
    "        m0_valid = pd.read_csv(('valid' if is_valid is True else 'test')+m0)  # 模型1输出文件\n",
    "        m1_valid = pd.read_csv(('valid' if is_valid is True else 'test')+m1)  # 模型2输出文件\n",
    "        m2_valid = pd.read_csv(('valid' if is_valid is True else 'test')+m2)  # 模型2输出文件\n",
    "        ran = list(np.arange(0.0,0.6,0.01))\n",
    "        best_s_score = 0\n",
    "        best_h_score = 0\n",
    "        for w in tqdm(ran):\n",
    "            for w2 in ran:\n",
    "\n",
    "                ensemble_valid = pd.DataFrame()\n",
    "                ensemble_valid['model_0_stat'] = m0_valid['label'].astype(int) - 1\n",
    "                ensemble_valid['model_1_stat'] = m1_valid['label'].astype(int) - 1\n",
    "                ensemble_valid['model_2_stat'] = m2_valid['label'].astype(int) - 1\n",
    "\n",
    "\n",
    "                for stat in range(1, 4):\n",
    "                    ensemble_valid[f'{stat}_pred_prob'] = ensemble_weight[0] * m0_valid.loc[:, f'{stat}_pred_prob'] + \\\n",
    "                                                          w * m1_valid.loc[:, f'{stat}_pred_prob'] + \\\n",
    "                                                          w2 * m2_valid.loc[:, f'{stat}_pred_prob']\n",
    "                    m0_valid[f'{stat}_pred_label'] = 0\n",
    "                    m0_valid.loc[m0_valid[m0_valid.label == stat].index.tolist(), f'{stat}_pred_label'] = 1\n",
    "                    m1_valid[f'{stat}_pred_label'] = 0\n",
    "                    m1_valid.loc[m1_valid[m1_valid.label == stat].index.tolist(), f'{stat}_pred_label'] = 1\n",
    "                    m2_valid[f'{stat}_pred_label'] = 0\n",
    "                    m2_valid.loc[m2_valid[m2_valid.label == stat].index.tolist(), f'{stat}_pred_label'] = 1\n",
    "\n",
    "                    ensemble_valid[f'{stat}_pred_label'] = ensemble_weight[0] * m0_valid.loc[:, f'{stat}_pred_label'] + \\\n",
    "                                                   w * m1_valid.loc[:, f'{stat}_pred_label'] + \\\n",
    "                                                   w2 * m2_valid.loc[:, f'{stat}_pred_label']\n",
    "\n",
    "                ensemble_valid['pred_stat_soft'] = ensemble_valid.loc[:, [f'{stat}_pred_prob' for stat in range(1, 4)]].idxmax(axis=1)\n",
    "                ensemble_valid['pred_stat_soft'] = ensemble_valid['pred_stat_soft'].apply(lambda x: int(x.split('_')[0]) - 1).astype('int')\n",
    "                ensemble_valid['pred_stat_hard'] = ensemble_valid.loc[:, [f'{stat}_pred_label' for stat in range(1, 4)]].idxmax(axis=1)\n",
    "                ensemble_valid['pred_stat_hard'] = ensemble_valid['pred_stat_hard'].apply(lambda x: int(x.split('_')[0]) - 1).astype('int')\n",
    "\n",
    "                curr_s_score = f1_score_eval(ensemble_valid[\"pred_stat_soft\"], valid[\"label\"])\n",
    "                curr_h_score = f1_score_eval(ensemble_valid[\"pred_stat_hard\"], valid[\"label\"])\n",
    "                #print(f'weight: {w},{w2}, soft ensemble valid F1 score: {curr_score}')\n",
    "                if curr_s_score > best_s_score:\n",
    "                    best_s_score = curr_s_score\n",
    "                    best_s_weight = [ensemble_weight[0],w,w2]\n",
    "                if curr_h_score > best_h_score:\n",
    "                    best_h_score = curr_h_score\n",
    "                    best_h_weight = [ensemble_weight[0],w,w2]\n",
    "        print(f'best soft score: {best_s_score}, best weight: {best_s_weight}')\n",
    "        print(f'best hard score: {best_h_score}, best weight: {best_h_weight}')\n",
    "        \n",
    "        is_soft = True if best_s_score>=best_h_score else False\n",
    "        ensemble_weight = best_s_weight if best_s_score>=best_h_score else best_h_weight\n"
   ]
  },
  {
   "cell_type": "code",
   "execution_count": 8,
   "metadata": {},
   "outputs": [
    {
     "name": "stdout",
     "output_type": "stream",
     "text": [
      "is_soft=False, is_valid=True, weight=[0.45, 0.46, 0.02]\n"
     ]
    }
   ],
   "source": [
    "    print(f'is_soft={is_soft}, is_valid={is_valid}, weight={ensemble_weight}')"
   ]
  },
  {
   "cell_type": "code",
   "execution_count": 9,
   "metadata": {},
   "outputs": [],
   "source": [
    "    ensemble_valid = pd.DataFrame()\n",
    "    ensemble_valid['model_0_stat'] = m0_valid['label'].astype(int) - 1\n",
    "    ensemble_valid['model_1_stat'] = m1_valid['label'].astype(int) - 1\n",
    "    ensemble_valid['model_2_stat'] = m2_valid['label'].astype(int) - 1\n",
    "    "
   ]
  },
  {
   "cell_type": "code",
   "execution_count": 10,
   "metadata": {},
   "outputs": [],
   "source": [
    "    for stat in range(1, 4):\n",
    "        ensemble_valid[f'{stat}_pred_prob'] = ensemble_weight[0] * m0_valid.loc[:, f'{stat}_pred_prob'] + \\\n",
    "                                              ensemble_weight[1] * m1_valid.loc[:, f'{stat}_pred_prob'] + \\\n",
    "                                              ensemble_weight[2] * m2_valid.loc[:, f'{stat}_pred_prob']\n",
    "        m0_valid[f'{stat}_pred_label'] = 0\n",
    "        m0_valid.loc[m0_valid[m0_valid.label == stat].index.tolist(), f'{stat}_pred_label'] = 1\n",
    "        m1_valid[f'{stat}_pred_label'] = 0\n",
    "        m1_valid.loc[m1_valid[m1_valid.label == stat].index.tolist(), f'{stat}_pred_label'] = 1\n",
    "        m2_valid[f'{stat}_pred_label'] = 0\n",
    "        m2_valid.loc[m2_valid[m2_valid.label == stat].index.tolist(), f'{stat}_pred_label'] = 1\n",
    "\n",
    "        ensemble_valid[f'{stat}_pred_label'] = ensemble_weight[0] * m0_valid.loc[:, f'{stat}_pred_label'] + \\\n",
    "                                               ensemble_weight[1] * m1_valid.loc[:, f'{stat}_pred_label'] + \\\n",
    "                                               ensemble_weight[2] * m2_valid.loc[:, f'{stat}_pred_label']\n",
    "        "
   ]
  },
  {
   "cell_type": "code",
   "execution_count": 11,
   "metadata": {},
   "outputs": [],
   "source": [
    "    ensemble_valid['pred_stat_soft'] = ensemble_valid.loc[:, [f'{stat}_pred_prob' for stat in range(1, 4)]].idxmax(axis=1)\n",
    "    ensemble_valid['pred_stat_soft'] = ensemble_valid['pred_stat_soft'].apply(lambda x: int(x.split('_')[0]) - 1).astype('int')\n",
    "    ensemble_valid['pred_stat_hard'] = ensemble_valid.loc[:, [f'{stat}_pred_label' for stat in range(1, 4)]].idxmax(axis=1)\n",
    "    ensemble_valid['pred_stat_hard'] = ensemble_valid['pred_stat_hard'].apply(lambda x: int(x.split('_')[0]) - 1).astype('int')\n",
    "    "
   ]
  },
  {
   "cell_type": "code",
   "execution_count": 12,
   "metadata": {},
   "outputs": [
    {
     "name": "stdout",
     "output_type": "stream",
     "text": [
      "soft ensemble valid F1 score: 0.5642412209461809\n",
      "hard ensemble valid F1 score: 0.567533815247799\n",
      "model_0 valid F1 score: 0.562427175418077\n",
      "model_1 valid F1 score: 0.5608858562717389\n",
      "model_2 valid F1 score: 0.5509804811649321\n"
     ]
    }
   ],
   "source": [
    "    if is_valid == True:\n",
    "        \n",
    "        print(f'soft ensemble valid F1 score: {f1_score_eval(ensemble_valid[\"pred_stat_soft\"], valid[\"label\"])}')\n",
    "        print(f'hard ensemble valid F1 score: {f1_score_eval(ensemble_valid[\"pred_stat_hard\"], valid[\"label\"])}')\n",
    "        print(f'model_0 valid F1 score: {f1_score_eval(ensemble_valid[\"model_0_stat\"], valid[\"label\"])}')\n",
    "        print(f'model_1 valid F1 score: {f1_score_eval(ensemble_valid[\"model_1_stat\"], valid[\"label\"])}')\n",
    "        print(f'model_2 valid F1 score: {f1_score_eval(ensemble_valid[\"model_2_stat\"], valid[\"label\"])}')\n",
    "    "
   ]
  },
  {
   "cell_type": "code",
   "execution_count": 13,
   "metadata": {},
   "outputs": [],
   "source": [
    "    #is_soft=True\n",
    "    #ensemble_weight=best_s_weight\n",
    "    #print(f'is_soft={is_soft}, is_valid={is_valid}, weight={ensemble_weight}')"
   ]
  },
  {
   "cell_type": "code",
   "execution_count": 14,
   "metadata": {},
   "outputs": [],
   "source": [
    "    is_valid = False # 如果下一步要生成文件，为False\n",
    "    m0_valid = pd.read_csv(('valid' if is_valid is True else 'test')+m0)  # 模型1输出文件\n",
    "    m1_valid = pd.read_csv(('valid' if is_valid is True else 'test')+m1)  # 模型2输出文件\n",
    "    m2_valid = pd.read_csv(('valid' if is_valid is True else 'test')+m2)  # 模型2输出文件\n",
    "    \n",
    "    ensemble_valid = pd.DataFrame()\n",
    "    ensemble_valid['model_0_stat'] = m0_valid['label'].astype(int) - 1\n",
    "    ensemble_valid['model_1_stat'] = m1_valid['label'].astype(int) - 1\n",
    "    ensemble_valid['model_2_stat'] = m2_valid['label'].astype(int) - 1\n",
    "    \n",
    "    for stat in range(1, 4):\n",
    "        ensemble_valid[f'{stat}_pred_prob'] = ensemble_weight[0] * m0_valid.loc[:, f'{stat}_pred_prob'] + \\\n",
    "                                              ensemble_weight[1] * m1_valid.loc[:, f'{stat}_pred_prob'] + \\\n",
    "                                              ensemble_weight[2] * m2_valid.loc[:, f'{stat}_pred_prob']\n",
    "        m0_valid[f'{stat}_pred_label'] = 0\n",
    "        m0_valid.loc[m0_valid[m0_valid.label == stat].index.tolist(), f'{stat}_pred_label'] = 1\n",
    "        m1_valid[f'{stat}_pred_label'] = 0\n",
    "        m1_valid.loc[m1_valid[m1_valid.label == stat].index.tolist(), f'{stat}_pred_label'] = 1\n",
    "        m2_valid[f'{stat}_pred_label'] = 0\n",
    "        m2_valid.loc[m2_valid[m2_valid.label == stat].index.tolist(), f'{stat}_pred_label'] = 1\n",
    "\n",
    "        ensemble_valid[f'{stat}_pred_label'] = ensemble_weight[0] * m0_valid.loc[:, f'{stat}_pred_label'] + \\\n",
    "                                               ensemble_weight[1] * m1_valid.loc[:, f'{stat}_pred_label'] + \\\n",
    "                                               ensemble_weight[2] * m2_valid.loc[:, f'{stat}_pred_label']\n",
    "        \n",
    "    ensemble_valid['pred_stat_soft'] = ensemble_valid.loc[:, [f'{stat}_pred_prob' for stat in range(1, 4)]].idxmax(axis=1)\n",
    "    ensemble_valid['pred_stat_soft'] = ensemble_valid['pred_stat_soft'].apply(lambda x: int(x.split('_')[0]) - 1).astype('int')\n",
    "    ensemble_valid['pred_stat_hard'] = ensemble_valid.loc[:, [f'{stat}_pred_label' for stat in range(1, 4)]].idxmax(axis=1)\n",
    "    ensemble_valid['pred_stat_hard'] = ensemble_valid['pred_stat_hard'].apply(lambda x: int(x.split('_')[0]) - 1).astype('int')\n",
    "    "
   ]
  },
  {
   "cell_type": "code",
   "execution_count": 15,
   "metadata": {},
   "outputs": [
    {
     "name": "stdout",
     "output_type": "stream",
     "text": [
      "is_soft=False, is_valid=False, weight=[0.45, 0.46, 0.02]\n"
     ]
    }
   ],
   "source": [
    "    print(f'is_soft={is_soft}, is_valid={is_valid}, weight={ensemble_weight}')"
   ]
  },
  {
   "cell_type": "code",
   "execution_count": 16,
   "metadata": {},
   "outputs": [
    {
     "name": "stdout",
     "output_type": "stream",
     "text": [
      "using pred_stat_hard for prediction\n"
     ]
    }
   ],
   "source": [
    "    if is_valid == False:\n",
    "        print('using pred_stat_'+('soft' if is_soft is True else 'hard')+' for prediction')\n",
    "        sub = pd.DataFrame()\n",
    "        sub[['link', 'current_slice_id', 'future_slice_id']] = m2_valid.loc[:, ['link', 'current_slice_id', 'future_slice_id']]\n",
    "        sub['label'] = ensemble_valid['pred_stat_'+('soft' if is_soft is True else 'hard')] + 1\n",
    "        sub.to_csv('result_ensembling_new.csv', index=False, encoding='utf8')\n",
    "    "
   ]
  },
  {
   "cell_type": "code",
   "execution_count": null,
   "metadata": {},
   "outputs": [],
   "source": [
    "    # 以下cell无需执行"
   ]
  },
  {
   "cell_type": "code",
   "execution_count": 28,
   "metadata": {},
   "outputs": [
    {
     "name": "stdout",
     "output_type": "stream",
     "text": [
      "is_soft=False, is_valid=True, weight=[0.45, 0.14, 0.27]\n",
      "best soft score: 0.5653068934533243, best weight: [0.45, 0.14, 0.27, 0.0]\n",
      "best hard score: 0.562427175418077, best weight: [0.45, 0.14, 0.27, 0.0]\n"
     ]
    }
   ],
   "source": [
    "    # 四个模型权重测试\n",
    "    is_valid = True\n",
    "\n",
    "    print(f'is_soft={is_soft}, is_valid={is_valid}, weight={ensemble_weight}')\n",
    "    m0_valid = pd.read_csv(('valid' if is_valid is True else 'test')+m0)  # 模型1输出文件\n",
    "    m1_valid = pd.read_csv(('valid' if is_valid is True else 'test')+m1)  # 模型2输出文件\n",
    "    m2_valid = pd.read_csv(('valid' if is_valid is True else 'test')+m2)  # 模型3输出文件\n",
    "    m3 = '_prob_0.517.csv'\n",
    "    m3_valid = pd.read_csv(('valid' if is_valid is True else 'test')+m3)  # 模型4输出文件\n",
    "    ran = list(np.arange(0.0,0.6,0.01))\n",
    "    best_s_score = 0\n",
    "    best_h_score = 0\n",
    "    for w in ran:\n",
    "        \n",
    "        ensemble_valid = pd.DataFrame()\n",
    "        ensemble_valid['model_0_stat'] = m0_valid['label'].astype(int) - 1\n",
    "        ensemble_valid['model_1_stat'] = m1_valid['label'].astype(int) - 1\n",
    "        ensemble_valid['model_2_stat'] = m2_valid['label'].astype(int) - 1\n",
    "        ensemble_valid['model_3_stat'] = m3_valid['label'].astype(int) - 1\n",
    "\n",
    "\n",
    "        for stat in range(1, 4):\n",
    "            ensemble_valid[f'{stat}_pred_prob'] = ensemble_weight[0] * m0_valid.loc[:, f'{stat}_pred_prob'] + \\\n",
    "                                                  ensemble_weight[1] * m1_valid.loc[:, f'{stat}_pred_prob'] + \\\n",
    "                                                  ensemble_weight[2] * m2_valid.loc[:, f'{stat}_pred_prob'] + \\\n",
    "                                                  w * m3_valid.loc[:, f'{stat}_pred_prob']\n",
    "            m0_valid[f'{stat}_pred_label'] = 0\n",
    "            m0_valid.loc[m0_valid[m0_valid.label == stat].index.tolist(), f'{stat}_pred_label'] = 1\n",
    "            m1_valid[f'{stat}_pred_label'] = 0\n",
    "            m1_valid.loc[m1_valid[m1_valid.label == stat].index.tolist(), f'{stat}_pred_label'] = 1\n",
    "            m2_valid[f'{stat}_pred_label'] = 0\n",
    "            m2_valid.loc[m2_valid[m2_valid.label == stat].index.tolist(), f'{stat}_pred_label'] = 1\n",
    "            m3_valid[f'{stat}_pred_label'] = 0\n",
    "            m3_valid.loc[m3_valid[m3_valid.label == stat].index.tolist(), f'{stat}_pred_label'] = 1\n",
    "\n",
    "            ensemble_valid[f'{stat}_pred_label'] = ensemble_weight[0] * m0_valid.loc[:, f'{stat}_pred_label'] + \\\n",
    "                                           ensemble_weight[1] * m1_valid.loc[:, f'{stat}_pred_label'] + \\\n",
    "                                           ensemble_weight[2] * m2_valid.loc[:, f'{stat}_pred_label'] + \\\n",
    "                                           w * m3_valid.loc[:, f'{stat}_pred_label']\n",
    "\n",
    "        ensemble_valid['pred_stat_soft'] = ensemble_valid.loc[:, [f'{stat}_pred_prob' for stat in range(1, 4)]].idxmax(axis=1)\n",
    "        ensemble_valid['pred_stat_soft'] = ensemble_valid['pred_stat_soft'].apply(lambda x: int(x.split('_')[0]) - 1).astype('int')\n",
    "        ensemble_valid['pred_stat_hard'] = ensemble_valid.loc[:, [f'{stat}_pred_label' for stat in range(1, 4)]].idxmax(axis=1)\n",
    "        ensemble_valid['pred_stat_hard'] = ensemble_valid['pred_stat_hard'].apply(lambda x: int(x.split('_')[0]) - 1).astype('int')\n",
    "\n",
    "        curr_s_score = f1_score_eval(ensemble_valid[\"pred_stat_soft\"], valid[\"label\"])\n",
    "        curr_h_score = f1_score_eval(ensemble_valid[\"pred_stat_hard\"], valid[\"label\"])\n",
    "        #print(f'weight: {w},{w2}, soft ensemble valid F1 score: {curr_score}')\n",
    "        if curr_s_score > best_s_score:\n",
    "            best_s_score = curr_s_score\n",
    "            best_s_weight = [ensemble_weight[0],ensemble_weight[1],ensemble_weight[2],w]\n",
    "        if curr_h_score > best_h_score:\n",
    "            best_h_score = curr_h_score\n",
    "            best_h_weight = [ensemble_weight[0],ensemble_weight[1],ensemble_weight[2],w]\n",
    "    print(f'best soft score: {best_s_score}, best weight: {best_s_weight}')\n",
    "    print(f'best hard score: {best_h_score}, best weight: {best_h_weight}')\n",
    "    "
   ]
  },
  {
   "cell_type": "code",
   "execution_count": 28,
   "metadata": {},
   "outputs": [
    {
     "name": "stderr",
     "output_type": "stream",
     "text": [
      "/opt/anaconda3/lib/python3.7/site-packages/pandas/core/indexing.py:1596: SettingWithCopyWarning: \n",
      "A value is trying to be set on a copy of a slice from a DataFrame.\n",
      "Try using .loc[row_indexer,col_indexer] = value instead\n",
      "\n",
      "See the caveats in the documentation: https://pandas.pydata.org/pandas-docs/stable/user_guide/indexing.html#returning-a-view-versus-a-copy\n",
      "  self.obj[key] = _infer_fill_value(value)\n",
      "/opt/anaconda3/lib/python3.7/site-packages/pandas/core/indexing.py:1743: SettingWithCopyWarning: \n",
      "A value is trying to be set on a copy of a slice from a DataFrame.\n",
      "Try using .loc[row_indexer,col_indexer] = value instead\n",
      "\n",
      "See the caveats in the documentation: https://pandas.pydata.org/pandas-docs/stable/user_guide/indexing.html#returning-a-view-versus-a-copy\n",
      "  isetter(ilocs[0], value)\n"
     ]
    }
   ],
   "source": [
    "    if is_valid == False:\n",
    "        sub = m1_valid[['link', 'current_slice_id', 'future_slice_id']].deepcopy()\n",
    "        sub.loc[:,'label'] = ensemble_valid['pred_stat_'+('soft' if is_soft is True else 'hard')] + 1\n",
    "        sub.to_csv('result_ensembling_56196.csv', index=False, encoding='utf8')\n",
    "    "
   ]
  }
 ],
 "metadata": {
  "kernelspec": {
   "display_name": "Python 3",
   "language": "python",
   "name": "python3"
  },
  "language_info": {
   "codemirror_mode": {
    "name": "ipython",
    "version": 3
   },
   "file_extension": ".py",
   "mimetype": "text/x-python",
   "name": "python",
   "nbconvert_exporter": "python",
   "pygments_lexer": "ipython3",
   "version": "3.7.6"
  }
 },
 "nbformat": 4,
 "nbformat_minor": 4
}
